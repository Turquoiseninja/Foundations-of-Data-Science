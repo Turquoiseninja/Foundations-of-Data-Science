{
 "cells": [
  {
   "cell_type": "code",
   "execution_count": 1,
   "metadata": {},
   "outputs": [],
   "source": [
    "import pandas as pd \n",
    "import datetime\n",
    "import csv\n",
    "import os \n",
    "import requests \n",
    "import datetime as dt\n",
    "import time"
   ]
  },
  {
   "cell_type": "markdown",
   "metadata": {},
   "source": [
    "# Exercise"
   ]
  },
  {
   "cell_type": "markdown",
   "metadata": {},
   "source": [
    "For your exercise do the following:\n",
    "\n",
    "1. Choose a reddit page you want to crawl\n",
    "2. The following fields should be present when you crawl **(10 points)**:\n",
    "    - author\n",
    "    - subreddit\n",
    "    - date created \n",
    "    - number of comments \n",
    "    - score\n",
    "    - submission title \n",
    "    - submission description"
   ]
  },
  {
   "cell_type": "code",
   "execution_count": 2,
   "metadata": {},
   "outputs": [
    {
     "name": "stdout",
     "output_type": "stream",
     "text": [
      "Doing 2020-07-01 to 2020-07-02\n",
      "Done\n",
      "Doing 2020-07-02 to 2020-07-03\n",
      "Done\n",
      "Doing 2020-07-03 to 2020-07-04\n",
      "Done\n",
      "Doing 2020-07-04 to 2020-07-05\n",
      "Done\n",
      "Doing 2020-07-05 to 2020-07-06\n",
      "Done\n",
      "Doing 2020-07-06 to 2020-07-07\n",
      "Done\n",
      "Doing 2020-07-07 to 2020-07-08\n",
      "Done\n",
      "Doing 2020-07-08 to 2020-07-09\n",
      "Done\n",
      "Doing 2020-07-09 to 2020-07-10\n",
      "Done\n",
      "Doing 2020-07-10 to 2020-07-11\n",
      "Done\n",
      "Doing 2020-07-11 to 2020-07-12\n",
      "Done\n",
      "Doing 2020-07-12 to 2020-07-13\n",
      "Done\n",
      "Doing 2020-07-13 to 2020-07-14\n",
      "Done\n",
      "Doing 2020-07-14 to 2020-07-15\n",
      "Done\n",
      "Doing 2020-07-15 to 2020-07-16\n",
      "Done\n",
      "Doing 2020-07-16 to 2020-07-17\n",
      "Done\n",
      "Doing 2020-07-17 to 2020-07-18\n",
      "Done\n",
      "Doing 2020-07-18 to 2020-07-19\n",
      "Done\n",
      "Doing 2020-07-19 to 2020-07-20\n",
      "Done\n",
      "Doing 2020-07-20 to 2020-07-21\n",
      "Done\n"
     ]
    }
   ],
   "source": [
    "def cdate(d):\n",
    "    return int(d.replace(tzinfo = dt.timezone.utc).timestamp())\n",
    "    \n",
    "def tdate(t):\n",
    "    return dt.datetime.fromtimestamp(t)\n",
    "\n",
    "sdate = dt.datetime.strptime('2020-07-01', '%Y-%m-%d')\n",
    "edate = dt.datetime.strptime('2020-07-20', '%Y-%m-%d')\n",
    "\n",
    "dater = (pd.date_range(sdate, periods = (edate - sdate).days + 2).tolist())\n",
    "\n",
    "sort_type = 'score'\n",
    "sort = 'acs'\n",
    "Author = 'author'\n",
    "Subreddit = 'subreddit'\n",
    "Date_Created = 'created_utc'\n",
    "Number_of_Comments = 'num_comments'\n",
    "Score = 'score'\n",
    "Submission_Title = 'title'\n",
    "Submission_Description = 'selftext'\n",
    "fields = [Author, Subreddit, Date_Created, Number_of_Comments, Score, Submission_Title, Submission_Description]\n",
    "subreddit = 'dlsu', 'school'\n",
    "url = 'https://api.pushshift.io/reddit/submission/search/'\n",
    "results = []\n",
    "\n",
    "for i, s_d in enumerate(dater):\n",
    "    if i != len(dater) - 1:\n",
    "        e_d = dater[i + 1]\n",
    "        r = requests.get(url = url, \n",
    "                         params = {\n",
    "            'after': cdate(s_d),\n",
    "            'before': cdate(e_d),\n",
    "            'sort_type': sort_type,\n",
    "            'sort': sort,\n",
    "            'fields': fields,\n",
    "            'subreddit': subreddit,\n",
    "            'size': 1000\n",
    "        })\n",
    "\n",
    "        print(f\"Doing {s_d.strftime('%Y-%m-%d')} to {e_d.strftime('%Y-%m-%d')}\")\n",
    "        if r.status_code == 200:\n",
    "            results.append(r.json()['data'])\n",
    "            print('Done')\n",
    "        else:\n",
    "            print('Skipped')\n",
    "        \n",
    "        time.sleep(1)"
   ]
  },
  {
   "cell_type": "markdown",
   "metadata": {},
   "source": [
    "3. After crawling, save your results to a pandas dataframe **(3 points)**. "
   ]
  },
  {
   "cell_type": "code",
   "execution_count": 3,
   "metadata": {},
   "outputs": [
    {
     "data": {
      "text/html": [
       "<div>\n",
       "<style scoped>\n",
       "    .dataframe tbody tr th:only-of-type {\n",
       "        vertical-align: middle;\n",
       "    }\n",
       "\n",
       "    .dataframe tbody tr th {\n",
       "        vertical-align: top;\n",
       "    }\n",
       "\n",
       "    .dataframe thead th {\n",
       "        text-align: right;\n",
       "    }\n",
       "</style>\n",
       "<table border=\"1\" class=\"dataframe\">\n",
       "  <thead>\n",
       "    <tr style=\"text-align: right;\">\n",
       "      <th></th>\n",
       "      <th>Author</th>\n",
       "      <th>Date Created</th>\n",
       "      <th>No. of Comments</th>\n",
       "      <th>Score</th>\n",
       "      <th>Submission Description</th>\n",
       "      <th>Subreddit</th>\n",
       "      <th>Submission Title</th>\n",
       "    </tr>\n",
       "  </thead>\n",
       "  <tbody>\n",
       "    <tr>\n",
       "      <th>0</th>\n",
       "      <td>uwupuffs</td>\n",
       "      <td>1593630137</td>\n",
       "      <td>1</td>\n",
       "      <td>1</td>\n",
       "      <td>Am i the only one who cant access the DCAT res...</td>\n",
       "      <td>dlsu</td>\n",
       "      <td>COP result</td>\n",
       "    </tr>\n",
       "    <tr>\n",
       "      <th>1</th>\n",
       "      <td>_craaazycambria</td>\n",
       "      <td>1593643071</td>\n",
       "      <td>1</td>\n",
       "      <td>1</td>\n",
       "      <td>I dont have access to MLS so i cant print my E...</td>\n",
       "      <td>dlsu</td>\n",
       "      <td>How to print EAF FOR RETURNEE?</td>\n",
       "    </tr>\n",
       "    <tr>\n",
       "      <th>2</th>\n",
       "      <td>The_BlueSpirit_</td>\n",
       "      <td>1593562940</td>\n",
       "      <td>2</td>\n",
       "      <td>1</td>\n",
       "      <td>So I saw a post about payment via over-the-cou...</td>\n",
       "      <td>dlsu</td>\n",
       "      <td>Payment of tuition via over-the-counter</td>\n",
       "    </tr>\n",
       "    <tr>\n",
       "      <th>3</th>\n",
       "      <td>squidnee-09</td>\n",
       "      <td>1593572556</td>\n",
       "      <td>0</td>\n",
       "      <td>1</td>\n",
       "      <td>I record all of my lectures on my ipad and the...</td>\n",
       "      <td>school</td>\n",
       "      <td>Speech to text</td>\n",
       "    </tr>\n",
       "    <tr>\n",
       "      <th>4</th>\n",
       "      <td>grillledmagikarp</td>\n",
       "      <td>1593570103</td>\n",
       "      <td>3</td>\n",
       "      <td>1</td>\n",
       "      <td>I decided tohold off enlisting on PE this term...</td>\n",
       "      <td>dlsu</td>\n",
       "      <td>When do you think is a good time to enlist in ...</td>\n",
       "    </tr>\n",
       "  </tbody>\n",
       "</table>\n",
       "</div>"
      ],
      "text/plain": [
       "             Author  Date Created  No. of Comments  Score  \\\n",
       "0          uwupuffs    1593630137                1      1   \n",
       "1   _craaazycambria    1593643071                1      1   \n",
       "2   The_BlueSpirit_    1593562940                2      1   \n",
       "3       squidnee-09    1593572556                0      1   \n",
       "4  grillledmagikarp    1593570103                3      1   \n",
       "\n",
       "                              Submission Description Subreddit  \\\n",
       "0  Am i the only one who cant access the DCAT res...      dlsu   \n",
       "1  I dont have access to MLS so i cant print my E...      dlsu   \n",
       "2  So I saw a post about payment via over-the-cou...      dlsu   \n",
       "3  I record all of my lectures on my ipad and the...    school   \n",
       "4  I decided tohold off enlisting on PE this term...      dlsu   \n",
       "\n",
       "                                    Submission Title  \n",
       "0                                         COP result  \n",
       "1                     How to print EAF FOR RETURNEE?  \n",
       "2            Payment of tuition via over-the-counter  \n",
       "3                                     Speech to text  \n",
       "4  When do you think is a good time to enlist in ...  "
      ]
     },
     "metadata": {},
     "output_type": "display_data"
    }
   ],
   "source": [
    "rlist = []\n",
    "\n",
    "for slist in results:\n",
    "    if slist is not None:\n",
    "        for item in slist:\n",
    "            rlist.append(item)\n",
    "\n",
    "df = pd.DataFrame.from_dict(rlist)\n",
    "header_names = ['Author', 'Date Created', 'No. of Comments', 'Score', 'Submission Description', 'Subreddit', 'Submission Title']\n",
    "df.to_csv(\"reddit.dlsu&school.csv\")\n",
    "ml = pd.read_csv('reddit.dlsu&school.csv',header=None,skiprows=1,names=header_names)\n",
    "display(ml.head())"
   ]
  },
  {
   "cell_type": "markdown",
   "metadata": {},
   "source": [
    "4. Answer the following questions **(12 points)**:\n",
    "    - How many submissions were you able to gather? \n",
    "    "
   ]
  },
  {
   "cell_type": "code",
   "execution_count": 4,
   "metadata": {},
   "outputs": [
    {
     "data": {
      "text/plain": [
       "584"
      ]
     },
     "execution_count": 4,
     "metadata": {},
     "output_type": "execute_result"
    }
   ],
   "source": [
    "ml['Submission Title'].count()"
   ]
  },
  {
   "cell_type": "markdown",
   "metadata": {},
   "source": [
    "    - Who has the most submissions? "
   ]
  },
  {
   "cell_type": "code",
   "execution_count": 5,
   "metadata": {},
   "outputs": [
    {
     "data": {
      "text/plain": [
       "'LeahKesley1'"
      ]
     },
     "execution_count": 5,
     "metadata": {},
     "output_type": "execute_result"
    }
   ],
   "source": [
    "ml.Author.value_counts().idxmax()"
   ]
  },
  {
   "cell_type": "markdown",
   "metadata": {},
   "source": [
    "    - Which submission has the highest score? "
   ]
  },
  {
   "cell_type": "code",
   "execution_count": 6,
   "metadata": {},
   "outputs": [
    {
     "data": {
      "text/plain": [
       "'No offense [now with a flair!]'"
      ]
     },
     "execution_count": 6,
     "metadata": {},
     "output_type": "execute_result"
    }
   ],
   "source": [
    "ml['Submission Title'][ml.Score.idxmax()]"
   ]
  },
  {
   "cell_type": "markdown",
   "metadata": {},
   "source": [
    "    - Which submission has the highest number of comments?"
   ]
  },
  {
   "cell_type": "code",
   "execution_count": 7,
   "metadata": {},
   "outputs": [
    {
     "data": {
      "text/plain": [
       "'Just graduated from the class of 2020!! A little late because I had to make up a summer class. Upvote to congrats me!!'"
      ]
     },
     "execution_count": 7,
     "metadata": {},
     "output_type": "execute_result"
    }
   ],
   "source": [
    "ml['Submission Title'][ml['No. of Comments'].idxmax()]"
   ]
  },
  {
   "cell_type": "markdown",
   "metadata": {},
   "source": [
    "    - Which day of the week has the most submissions? \n",
    "    \n",
    "**Tip:** _For item#4, recall how to use the aggregation functions in `pandas` like count, value_counts, sum, etc. For getting the day of the week, look into how to get the `dayofweek` from a datetime object in `pandas`. (Hint: You may need to use `pd.to_datetime` to convert your date column...)_"
   ]
  },
  {
   "cell_type": "code",
   "execution_count": 8,
   "metadata": {},
   "outputs": [
    {
     "data": {
      "text/plain": [
       "'Wednesday'"
      ]
     },
     "execution_count": 8,
     "metadata": {},
     "output_type": "execute_result"
    }
   ],
   "source": [
    "mldt = pd.to_datetime(ml['Date Created'], unit = 's')\n",
    "mldt.dt.day_name().value_counts().idxmax()"
   ]
  },
  {
   "cell_type": "code",
   "execution_count": null,
   "metadata": {},
   "outputs": [],
   "source": []
  }
 ],
 "metadata": {
  "kernelspec": {
   "display_name": "Python 3",
   "language": "python",
   "name": "python3"
  },
  "language_info": {
   "codemirror_mode": {
    "name": "ipython",
    "version": 3
   },
   "file_extension": ".py",
   "mimetype": "text/x-python",
   "name": "python",
   "nbconvert_exporter": "python",
   "pygments_lexer": "ipython3",
   "version": "3.7.7"
  }
 },
 "nbformat": 4,
 "nbformat_minor": 4
}
